{
 "cells": [
  {
   "cell_type": "code",
   "execution_count": 146,
   "metadata": {},
   "outputs": [
    {
     "ename": "SyntaxError",
     "evalue": "invalid syntax (3179498785.py, line 37)",
     "output_type": "error",
     "traceback": [
      "\u001b[0;36m  File \u001b[0;32m\"/tmp/ipykernel_8430/3179498785.py\"\u001b[0;36m, line \u001b[0;32m37\u001b[0m\n\u001b[0;31m    imimport matplotlib.pyplot as plt\u001b[0m\n\u001b[0m                      ^\u001b[0m\n\u001b[0;31mSyntaxError\u001b[0m\u001b[0;31m:\u001b[0m invalid syntax\n"
     ]
    }
   ],
   "source": [
    "\"\"\" This notebook performs SAR instrument design based on a multi-objective optimization algorithm (NSGA-II), enabled by the \r\n",
    "    `pymoo 0.4.2` package. A baseline instrument is defined, and some of the instrument parameters are kept as optmization variables.\r\n",
    "    Multiple objectives are defined in terms of the datametrics produced by the InstruPy package. \r\n",
    "    The result is a multi-dimensional Pareto-curve illustrating the trade-offs between different instrument designs. Any point on the\r\n",
    "    Pareto curve is optimal and a suitable point can be selected by the user for implementation.\r\n",
    "\r\n",
    "    Baseline instrument: Synthetic Aperture Radar with following fixed parameters:\r\n",
    "                            * Operational altitude is 350km\r\n",
    "                            * Dual-polarization (SMAP pulse configuration with default pulse-separation)\r\n",
    "                            * L-band\r\n",
    "                            * Operating points to be considered at incidence angles of 30 deg, 45 deg and 60 deg\r\n",
    "                            * 1kW transmit power\r\n",
    "                            * Full swath configuration (processed swath = illuminated swath)\r\n",
    "                            * Losses, Noise: Antenna efficiency of 60%, 2dB radar loss, 2dB system noise figure\r\n",
    "\r\n",
    "    Variables: (1) Daz [m] (antenna height in meters) range: 0.5m to 15m\r\n",
    "               (2) Delv [m] (antenna width in meters) range: 0.5m to 5m\r\n",
    "               (3) Chirp BW [MHz] (chirp bandwidth in Mega Hertz) range: 0.1MHz to 40MHz\r\n",
    "               (4) Pulse width [us] (transmit pulse width in micro-seconds) range: 1us to 1000us\r\n",
    "    \r\n",
    "    (Minimization) Objectives: \r\n",
    "                (1) Antenna area: Antenna height * Antenna width\r\n",
    "                \r\n",
    "                (2) -1* Swath Width\r\n",
    "                \r\n",
    "                (3) Sigma NESZ [dB]\r\n",
    "                \r\n",
    "                (4) Speckle reduction [dB] for 1km2 pixel:\r\n",
    "                    Number of Looks (N) = processed pixel area (1km2) / unprocessed pixel area (along-track resolution * cross-track resolution)\r\n",
    "                    The speckle reduction in decibels is given by 10 log_10(1/N) (See 5.8, Pg 187, David Gardner Long , Fawwaz T. Ulaby - Microwave Radar and Radiometric Remote Sensing)\r\n",
    "    \r\n",
    "    Constraints: Valid operating point (not all designs are valid for SAR since a suitable operational PRF may not be available.)\r\n",
    "                 The operations at incidence angles of 35 deg, 45 deg and 55 deg are considered.\r\n",
    "\r\n",
    "\"\"\"\r\n",
    "import numpy as np\r\n",
    "import os, shutil\r\n",
    "import matplotlib.pyplot as plt\r\n",
    "import pickle\r\n",
    "\r\n",
    "from pymoo.algorithms.nsga2 import NSGA2\r\n",
    "from pymoo.factory import get_problem, get_sampling, get_crossover, get_mutation, get_termination\r\n",
    "from pymoo.optimize import minimize\r\n",
    "from pymoo.visualization.scatter import Scatter\r\n",
    "from pymoo.util.misc import stack\r\n",
    "from pymoo.model.problem import Problem\r\n",
    "from instrupy.synthetic_aperture_radar_model import SyntheticApertureRadar\r\n",
    "\r\n",
    "Re = 6378.137e3 # [m]\r\n",
    "c = 299792458 # m/s\r\n",
    "h = 350e3 # [m]\r\n",
    "inc = [30, 45, 60] # [deg]\r\n",
    "orb_speed = np.sqrt(3.986004418e14/(Re + h)) # [m/s]\r\n",
    "\r\n",
    "out_dir = os.path.dirname(os.path.realpath(__file__)) + '/moo_results/'\r\n",
    "if os.path.exists(out_dir):\r\n",
    "    shutil.rmtree(out_dir)\r\n",
    "os.makedirs(out_dir)"
   ]
  },
  {
   "cell_type": "code",
   "execution_count": 147,
   "metadata": {},
   "outputs": [
    {
     "ename": "NameError",
     "evalue": "name 'Problem' is not defined",
     "output_type": "error",
     "traceback": [
      "\u001b[0;31m---------------------------------------------------------------------------\u001b[0m",
      "\u001b[0;31mNameError\u001b[0m                                 Traceback (most recent call last)",
      "\u001b[0;32m/tmp/ipykernel_8430/2999812894.py\u001b[0m in \u001b[0;36m<module>\u001b[0;34m\u001b[0m\n\u001b[0;32m----> 1\u001b[0;31m \u001b[0;32mclass\u001b[0m \u001b[0mMyProblem\u001b[0m\u001b[0;34m(\u001b[0m\u001b[0mProblem\u001b[0m\u001b[0;34m)\u001b[0m\u001b[0;34m:\u001b[0m\u001b[0;34m\u001b[0m\u001b[0;34m\u001b[0m\u001b[0m\n\u001b[0m\u001b[1;32m      2\u001b[0m     \"\"\"     # Variables: (1) Daz [m], (2) Delv [m], (3), Chirp BW [MHz] (4) Pulse width [us]\n\u001b[1;32m      3\u001b[0m             \u001b[0;31m# Objectives: (1) Antenna area (2) -1* Swath Width (3) Sigma NESZ [dB] (4) # Speckle reduction [dB] for 1km2 pixel\u001b[0m\u001b[0;34m\u001b[0m\u001b[0;34m\u001b[0m\u001b[0;34m\u001b[0m\u001b[0m\n\u001b[1;32m      4\u001b[0m             \u001b[0;31m# Constrains: Valid operating point\u001b[0m\u001b[0;34m\u001b[0m\u001b[0;34m\u001b[0m\u001b[0;34m\u001b[0m\u001b[0m\n\u001b[1;32m      5\u001b[0m     \"\"\"\n",
      "\u001b[0;31mNameError\u001b[0m: name 'Problem' is not defined"
     ]
    }
   ],
   "source": [
    "class MyProblem(Problem):\r\n",
    "    \"\"\"     # Variables: (1) Daz [m], (2) Delv [m], (3), Chirp BW [MHz] (4) Pulse width [us]\r\n",
    "            # Objectives: (1) Antenna area (2) -1* Swath Width (3) Sigma NESZ [dB] (4) # Speckle reduction [dB] for 1km2 pixel\r\n",
    "            # Constrtains: Valid operating point\r\n",
    "    \"\"\"\r\n",
    "    def __init__(self):\r\n",
    "        super().__init__(n_var=4,\r\n",
    "                         n_obj=4,\r\n",
    "                         n_constr=1,\r\n",
    "                         xl=np.array([0.5, 0.5, 0.1, 1]),\r\n",
    "                         xu=np.array([15, 5, 40, 1000]),\r\n",
    "                         elementwise_evaluation=True)\r\n",
    "\r\n",
    "    @staticmethod\r\n",
    "    def define_test_sar(daz_m, delv_m, chirpbw_Mhz, pulse_w_us):\r\n",
    "\r\n",
    "        test_sar = SyntheticApertureRadar.from_json(  '{\"@type\": \"Synthetic Aperture Radar\",'\r\n",
    "                                                '\"orientation\": {'\r\n",
    "                                                '    \"convention\": \"SIDE_LOOK\",'\r\n",
    "                                                '    \"sideLookAngle\": 55.21888' # not of significance in this problem\r\n",
    "                                                '},'\r\n",
    "                                                '\"pulseWidth\":'+ str(pulse_w_us*1e-6) +','\r\n",
    "                                                '\"antenna\":{\"shape\": \"RECTANGULAR\", \"height\":'+ str(daz_m) +',\"width\":'+ str(delv_m) +',' \r\n",
    "                                                '            \"apertureEfficiency\": 0.6, \"apertureExcitationProfile\": \"UNIFORM\"},'\r\n",
    "                                                '\"operatingFrequency\": 1.2757e9,' \r\n",
    "                                                '\"peakTransmitPower\": 1000,' \r\n",
    "                                                '\"chirpBandwidth\":'+ str(chirpbw_Mhz*1e6) +','     \r\n",
    "                                                '\"minimumPRF\": 1,' \r\n",
    "                                                '\"maximumPRF\": 20000,' \r\n",
    "                                                '\"radarLosses\": 2,' \r\n",
    "                                                '\"systemNoiseFigure\": 2,'\r\n",
    "                                                '\"swathConfig\": {'\r\n",
    "                                                '   \"@type\": \"full\"'\r\n",
    "                                                '},'\r\n",
    "                                                '\"polarization\": {'\r\n",
    "                                                '   \"@type\": \"dual\",'\r\n",
    "                                                '   \"pulseConfig\": {'\r\n",
    "                                                '        \"@type\": \"SMAP\"''}' \r\n",
    "                                                '}'                                                   \r\n",
    "                                                '}')\r\n",
    "        return test_sar            \r\n",
    "\r\n",
    "\r\n",
    "    def _evaluate(self, x, out, *args, **kwargs):\r\n",
    "        \r\n",
    "        daz_m = x[0]\r\n",
    "        delv_m = x[1]\r\n",
    "        chirpbw_Mhz = x[2]\r\n",
    "        pulse_w_us = x[3]\r\n",
    "\r\n",
    "        test_sar = MyProblem.define_test_sar(daz_m, delv_m, chirpbw_Mhz, pulse_w_us)       \r\n",
    "      \r\n",
    "        # Calculate the metrics at the 3 incidence angles. A valid operation point must be found for all of them.\r\n",
    "        obsv_metrics_1 = test_sar.calc_typ_data_metrics(alt_km = h*1e-3, v_sc_kmps = orb_speed*1e-3, v_g_kmps = orb_speed*1e-3*(Re/(Re+h)), \r\n",
    "                                                        incidence_angle_deg = inc[0], \r\n",
    "                                                        instru_look_angle_from_GP_inc_angle = True)\r\n",
    "        \r\n",
    "        obsv_metrics_2 = test_sar.calc_typ_data_metrics(alt_km = h*1e-3, v_sc_kmps = orb_speed*1e-3, v_g_kmps = orb_speed*1e-3*(Re/(Re+h)), \r\n",
    "                                                        incidence_angle_deg = inc[1], \r\n",
    "                                                        instru_look_angle_from_GP_inc_angle = True)\r\n",
    "\r\n",
    "        obsv_metrics_3 = test_sar.calc_typ_data_metrics(alt_km = h*1e-3, v_sc_kmps = orb_speed*1e-3, v_g_kmps = orb_speed*1e-3*(Re/(Re+h)), \r\n",
    "                                                        incidence_angle_deg = inc[2], \r\n",
    "                                                        instru_look_angle_from_GP_inc_angle = True)\r\n",
    "\r\n",
    "\r\n",
    "        # initialize to invalid observation point\r\n",
    "        g1 = 1\r\n",
    "        f1 = 1e9\r\n",
    "        f2 = 1e9\r\n",
    "        f3 = 1e9\r\n",
    "        f4 = 1e9\r\n",
    "            \r\n",
    "        if(obsv_metrics_1[\"Sigma NESZ [dB]\"] and obsv_metrics_2[\"Sigma NESZ [dB]\"] and obsv_metrics_3[\"Sigma NESZ [dB]\"] ):\r\n",
    "            \r\n",
    "            # Use below condition in case of fixed-swath simulations\r\n",
    "            #if(obsv_metrics_1[\"(Nominal) Swath-width [km]\"] == 25 and obsv_metrics_2[\"(Nominal) Swath-width [km]\"] == 25 and obsv_metrics_3[\"(Nominal) Swath-width [km]\"] == 25):\r\n",
    "                \r\n",
    "            # valid observation point\r\n",
    "            g1 = -1\r\n",
    "\r\n",
    "            f1 = daz_m * delv_m\r\n",
    "            f2 = -1 * obsv_metrics_3[\"(Nominal) Swath-width [km]\"]\r\n",
    "            f3 = obsv_metrics_3[\"Sigma NESZ [dB]\"]\r\n",
    "\r\n",
    "            N_looks = 1e6 / (obsv_metrics_3[\"Ground Pixel Along-Track Resolution [m]\"] * obsv_metrics_3[\"Ground Pixel Cross-Track Resolution [m]\"])\r\n",
    "            f4 = 10*np.log10(1/np.sqrt(N_looks))\r\n",
    "            #print(f1,f2,f3,f4)\r\n",
    "            \r\n",
    "\r\n",
    "\r\n",
    "\r\n",
    "        out[\"F\"] = np.column_stack([f1, f2, f3, f4])\r\n",
    "        out[\"G\"] = np.column_stack([g1])\r\n",
    "\r\n",
    "\r\n"
   ]
  },
  {
   "cell_type": "code",
   "execution_count": 148,
   "metadata": {},
   "outputs": [
    {
     "ename": "NameError",
     "evalue": "name 'MyProblem' is not defined",
     "output_type": "error",
     "traceback": [
      "\u001b[0;31m---------------------------------------------------------------------------\u001b[0m",
      "\u001b[0;31mNameError\u001b[0m                                 Traceback (most recent call last)",
      "\u001b[0;32m/tmp/ipykernel_8430/818157146.py\u001b[0m in \u001b[0;36m<module>\u001b[0;34m\u001b[0m\n\u001b[0;32m----> 1\u001b[0;31m \u001b[0mproblem\u001b[0m \u001b[0;34m=\u001b[0m \u001b[0mMyProblem\u001b[0m\u001b[0;34m(\u001b[0m\u001b[0;34m)\u001b[0m\u001b[0;34m\u001b[0m\u001b[0;34m\u001b[0m\u001b[0m\n\u001b[0m\u001b[1;32m      2\u001b[0m \u001b[0;34m\u001b[0m\u001b[0m\n\u001b[1;32m      3\u001b[0m algorithm = NSGA2(\n\u001b[1;32m      4\u001b[0m     \u001b[0mpop_size\u001b[0m\u001b[0;34m=\u001b[0m\u001b[0;36m100\u001b[0m\u001b[0;34m,\u001b[0m\u001b[0;34m\u001b[0m\u001b[0;34m\u001b[0m\u001b[0m\n\u001b[1;32m      5\u001b[0m     \u001b[0msampling\u001b[0m\u001b[0;34m=\u001b[0m\u001b[0mget_sampling\u001b[0m\u001b[0;34m(\u001b[0m\u001b[0;34m\"real_random\"\u001b[0m\u001b[0;34m)\u001b[0m\u001b[0;34m,\u001b[0m\u001b[0;34m\u001b[0m\u001b[0;34m\u001b[0m\u001b[0m\n",
      "\u001b[0;31mNameError\u001b[0m: name 'MyProblem' is not defined"
     ]
    }
   ],
   "source": [
    "problem = MyProblem()\r\n",
    "\r\n",
    "algorithm = NSGA2(\r\n",
    "    pop_size=100,\r\n",
    "    sampling=get_sampling(\"real_random\"),\r\n",
    "    crossover=get_crossover(\"real_sbx\", prob=0.9, eta=20),\r\n",
    "    mutation=get_mutation(\"real_pm\", eta=20),\r\n",
    "    eliminate_duplicates=True\r\n",
    ")\r\n",
    "\r\n",
    "termination = get_termination(\"n_gen\", 100)\r\n",
    "\r\n",
    "res = minimize(problem,\r\n",
    "               algorithm,\r\n",
    "               termination,\r\n",
    "               seed=1,\r\n",
    "               pf=problem.pareto_front(use_cache=False),\r\n",
    "               save_history=True,\r\n",
    "               verbose=False)\r\n",
    "\r\n",
    "pickle.dump(res, open(out_dir+ \"data.p\", \"wb\" ) )\r\n",
    "#res = pickle.load( open( \"X.p\", \"rb\" ) )"
   ]
  },
  {
   "cell_type": "code",
   "execution_count": 149,
   "metadata": {
    "scrolled": true
   },
   "outputs": [
    {
     "data": {
      "text/plain": "'\\n# create the performance indicator object with reference point (4,4)\\nmetric = Hypervolume(ref_point=np.array([15*15, 0, 0, 0]))\\n\\n# collect the population in each generation\\npop_each_gen = [a.pop for a in res.history]\\n\\n# receive the population in each generation\\nobj_and_feasible_each_gen = [pop[pop.get(\"feasible\")[:,0]].get(\"F\") for pop in pop_each_gen]\\n\\n# calculate for each generation the HV metric\\nhv = [metric.calc(f) for f in obj_and_feasible_each_gen]\\n\\n# function evaluations at each snapshot\\nn_evals = np.array([a.evaluator.n_eval for a in res.history])\\n'"
     },
     "execution_count": 149,
     "metadata": {},
     "output_type": "execute_result"
    }
   ],
   "source": [
    "\"\"\"\n",
    "# create the performance indicator object with reference point (4,4)\n",
    "metric = Hypervolume(ref_point=np.array([15*15, 0, 0, 0]))\n",
    "\n",
    "# collect the population in each generation\n",
    "pop_each_gen = [a.pop for a in res.history]\n",
    "\n",
    "# receive the population in each generation\n",
    "obj_and_feasible_each_gen = [pop[pop.get(\"feasible\")[:,0]].get(\"F\") for pop in pop_each_gen]\n",
    "\n",
    "# calculate for each generation the HV metric\n",
    "hv = [metric.calc(f) for f in obj_and_feasible_each_gen]\n",
    "\n",
    "# function evaluations at each snapshot\n",
    "n_evals = np.array([a.evaluator.n_eval for a in res.history])\n",
    "\"\"\""
   ]
  },
  {
   "cell_type": "code",
   "execution_count": 150,
   "metadata": {
    "scrolled": false
   },
   "outputs": [
    {
     "ename": "NameError",
     "evalue": "name 'Scatter' is not defined",
     "output_type": "error",
     "traceback": [
      "\u001b[0;31m---------------------------------------------------------------------------\u001b[0m",
      "\u001b[0;31mNameError\u001b[0m                                 Traceback (most recent call last)",
      "\u001b[0;32m/tmp/ipykernel_8430/2112321731.py\u001b[0m in \u001b[0;36m<module>\u001b[0;34m\u001b[0m\n\u001b[1;32m      1\u001b[0m \u001b[0;31m# Design Space\u001b[0m\u001b[0;34m\u001b[0m\u001b[0;34m\u001b[0m\u001b[0;34m\u001b[0m\u001b[0m\n\u001b[0;32m----> 2\u001b[0;31m \u001b[0mplot\u001b[0m \u001b[0;34m=\u001b[0m \u001b[0mScatter\u001b[0m\u001b[0;34m(\u001b[0m\u001b[0mtitle\u001b[0m \u001b[0;34m=\u001b[0m \u001b[0;34m\"Design Space\"\u001b[0m\u001b[0;34m,\u001b[0m \u001b[0maxis_labels\u001b[0m\u001b[0;34m=\u001b[0m\u001b[0;34m\"x\"\u001b[0m\u001b[0;34m,\u001b[0m \u001b[0mtight_layout\u001b[0m\u001b[0;34m=\u001b[0m\u001b[0;32mTrue\u001b[0m\u001b[0;34m)\u001b[0m\u001b[0;34m\u001b[0m\u001b[0;34m\u001b[0m\u001b[0m\n\u001b[0m\u001b[1;32m      3\u001b[0m \u001b[0mplot\u001b[0m\u001b[0;34m.\u001b[0m\u001b[0madd\u001b[0m\u001b[0;34m(\u001b[0m\u001b[0mres\u001b[0m\u001b[0;34m.\u001b[0m\u001b[0mX\u001b[0m\u001b[0;34m,\u001b[0m \u001b[0ms\u001b[0m\u001b[0;34m=\u001b[0m\u001b[0;36m30\u001b[0m\u001b[0;34m,\u001b[0m \u001b[0mfacecolors\u001b[0m\u001b[0;34m=\u001b[0m\u001b[0;34m'none'\u001b[0m\u001b[0;34m,\u001b[0m \u001b[0medgecolors\u001b[0m\u001b[0;34m=\u001b[0m\u001b[0;34m'c'\u001b[0m\u001b[0;34m)\u001b[0m\u001b[0;34m\u001b[0m\u001b[0;34m\u001b[0m\u001b[0m\n\u001b[1;32m      4\u001b[0m \u001b[0mplot\u001b[0m\u001b[0;34m.\u001b[0m\u001b[0mdo\u001b[0m\u001b[0;34m(\u001b[0m\u001b[0;34m)\u001b[0m\u001b[0;34m\u001b[0m\u001b[0;34m\u001b[0m\u001b[0m\n\u001b[1;32m      5\u001b[0m \u001b[0mplt\u001b[0m\u001b[0;34m.\u001b[0m\u001b[0msavefig\u001b[0m\u001b[0;34m(\u001b[0m\u001b[0mout_dir\u001b[0m\u001b[0;34m+\u001b[0m\u001b[0;34m\"design_space.svg\"\u001b[0m\u001b[0;34m)\u001b[0m\u001b[0;34m\u001b[0m\u001b[0;34m\u001b[0m\u001b[0m\n",
      "\u001b[0;31mNameError\u001b[0m: name 'Scatter' is not defined"
     ]
    }
   ],
   "source": [
    "# Design Space\n",
    "plot = Scatter(title = \"Design Space\", axis_labels=\"x\", tight_layout=True)\n",
    "plot.add(res.X, s=30, facecolors='none', edgecolors='c')\n",
    "plot.do()\n",
    "plt.savefig(out_dir+\"design_space.svg\")\n",
    "#plot.apply(lambda ax: ax.set_xlim(0.5, 0.5, 0.1, 1))\n",
    "#plot.apply(lambda ax: ax.set_ylim(20, 20, 80, 1000))\n",
    "plot.show()\n",
    "# f1: Daz [m], f2: Delv [m], f3: Chirp BW [MHz], f4: Pulse width [us]\n",
    "\n"
   ]
  },
  {
   "cell_type": "code",
   "execution_count": 151,
   "metadata": {
    "scrolled": false
   },
   "outputs": [
    {
     "ename": "NameError",
     "evalue": "name 'Scatter' is not defined",
     "output_type": "error",
     "traceback": [
      "\u001b[0;31m---------------------------------------------------------------------------\u001b[0m",
      "\u001b[0;31mNameError\u001b[0m                                 Traceback (most recent call last)",
      "\u001b[0;32m/tmp/ipykernel_8430/894657520.py\u001b[0m in \u001b[0;36m<module>\u001b[0;34m\u001b[0m\n\u001b[1;32m      1\u001b[0m \u001b[0;31m# Objective Space\u001b[0m\u001b[0;34m\u001b[0m\u001b[0;34m\u001b[0m\u001b[0;34m\u001b[0m\u001b[0m\n\u001b[0;32m----> 2\u001b[0;31m \u001b[0mplot\u001b[0m \u001b[0;34m=\u001b[0m \u001b[0mScatter\u001b[0m\u001b[0;34m(\u001b[0m\u001b[0mtitle\u001b[0m \u001b[0;34m=\u001b[0m \u001b[0;34m\"Objective Space\"\u001b[0m\u001b[0;34m,\u001b[0m \u001b[0mtight_layout\u001b[0m\u001b[0;34m=\u001b[0m\u001b[0;32mTrue\u001b[0m\u001b[0;34m)\u001b[0m\u001b[0;34m\u001b[0m\u001b[0;34m\u001b[0m\u001b[0m\n\u001b[0m\u001b[1;32m      3\u001b[0m \u001b[0mplot\u001b[0m\u001b[0;34m.\u001b[0m\u001b[0madd\u001b[0m\u001b[0;34m(\u001b[0m\u001b[0mres\u001b[0m\u001b[0;34m.\u001b[0m\u001b[0mF\u001b[0m\u001b[0;34m)\u001b[0m\u001b[0;34m\u001b[0m\u001b[0;34m\u001b[0m\u001b[0m\n\u001b[1;32m      4\u001b[0m \u001b[0mplot\u001b[0m\u001b[0;34m.\u001b[0m\u001b[0mdo\u001b[0m\u001b[0;34m(\u001b[0m\u001b[0;34m)\u001b[0m\u001b[0;34m\u001b[0m\u001b[0;34m\u001b[0m\u001b[0m\n\u001b[1;32m      5\u001b[0m \u001b[0mplt\u001b[0m\u001b[0;34m.\u001b[0m\u001b[0msavefig\u001b[0m\u001b[0;34m(\u001b[0m\u001b[0mout_dir\u001b[0m\u001b[0;34m+\u001b[0m\u001b[0;34m\"obj_space.svg\"\u001b[0m\u001b[0;34m)\u001b[0m\u001b[0;34m\u001b[0m\u001b[0;34m\u001b[0m\u001b[0m\n",
      "\u001b[0;31mNameError\u001b[0m: name 'Scatter' is not defined"
     ]
    }
   ],
   "source": [
    "# Objective Space\n",
    "plot = Scatter(title = \"Objective Space\", tight_layout=True)\n",
    "plot.add(res.F)\n",
    "plot.do()\n",
    "plt.savefig(out_dir+\"obj_space.svg\")\n",
    "plot.show()\n",
    "\n",
    "# f1: Antenna area [m2], f2: -Swath width [km], f3: Sigma NESZ [dB], f4: Speckle reduction [dB]"
   ]
  },
  {
   "cell_type": "code",
   "execution_count": 152,
   "metadata": {},
   "outputs": [
    {
     "ename": "NameError",
     "evalue": "name 'res' is not defined",
     "output_type": "error",
     "traceback": [
      "\u001b[0;31m---------------------------------------------------------------------------\u001b[0m",
      "\u001b[0;31mNameError\u001b[0m                                 Traceback (most recent call last)",
      "\u001b[0;32m/tmp/ipykernel_8430/3864394173.py\u001b[0m in \u001b[0;36m<module>\u001b[0;34m\u001b[0m\n\u001b[1;32m      1\u001b[0m \u001b[0;32mimport\u001b[0m \u001b[0mpandas\u001b[0m \u001b[0;32mas\u001b[0m \u001b[0mpd\u001b[0m\u001b[0;34m\u001b[0m\u001b[0;34m\u001b[0m\u001b[0m\n\u001b[0;32m----> 2\u001b[0;31m \u001b[0mdf\u001b[0m \u001b[0;34m=\u001b[0m \u001b[0mpd\u001b[0m\u001b[0;34m.\u001b[0m\u001b[0mDataFrame\u001b[0m\u001b[0;34m(\u001b[0m\u001b[0;34m{\u001b[0m\u001b[0;34m\"Daz [m]\"\u001b[0m \u001b[0;34m:\u001b[0m \u001b[0mres\u001b[0m\u001b[0;34m.\u001b[0m\u001b[0mX\u001b[0m\u001b[0;34m[\u001b[0m\u001b[0;34m:\u001b[0m\u001b[0;34m,\u001b[0m\u001b[0;36m0\u001b[0m\u001b[0;34m]\u001b[0m\u001b[0;34m,\u001b[0m \u001b[0;34m\"Delv [m]\"\u001b[0m \u001b[0;34m:\u001b[0m \u001b[0mres\u001b[0m\u001b[0;34m.\u001b[0m\u001b[0mX\u001b[0m\u001b[0;34m[\u001b[0m\u001b[0;34m:\u001b[0m\u001b[0;34m,\u001b[0m\u001b[0;36m1\u001b[0m\u001b[0;34m]\u001b[0m\u001b[0;34m,\u001b[0m \u001b[0;34m\"Chirp BW [MHz]\"\u001b[0m \u001b[0;34m:\u001b[0m \u001b[0mres\u001b[0m\u001b[0;34m.\u001b[0m\u001b[0mX\u001b[0m\u001b[0;34m[\u001b[0m\u001b[0;34m:\u001b[0m\u001b[0;34m,\u001b[0m\u001b[0;36m2\u001b[0m\u001b[0;34m]\u001b[0m\u001b[0;34m,\u001b[0m \u001b[0;34m\"Pulse width [us]\"\u001b[0m \u001b[0;34m:\u001b[0m \u001b[0mres\u001b[0m\u001b[0;34m.\u001b[0m\u001b[0mX\u001b[0m\u001b[0;34m[\u001b[0m\u001b[0;34m:\u001b[0m\u001b[0;34m,\u001b[0m\u001b[0;36m3\u001b[0m\u001b[0;34m]\u001b[0m\u001b[0;34m,\u001b[0m \u001b[0;34m\"Antenna area [m2]\"\u001b[0m \u001b[0;34m:\u001b[0m \u001b[0mres\u001b[0m\u001b[0;34m.\u001b[0m\u001b[0mF\u001b[0m\u001b[0;34m[\u001b[0m\u001b[0;34m:\u001b[0m\u001b[0;34m,\u001b[0m\u001b[0;36m0\u001b[0m\u001b[0;34m]\u001b[0m\u001b[0;34m,\u001b[0m \u001b[0;34m\"Swath width [km]\"\u001b[0m \u001b[0;34m:\u001b[0m \u001b[0;34m-\u001b[0m\u001b[0;36m1\u001b[0m\u001b[0;34m*\u001b[0m\u001b[0mres\u001b[0m\u001b[0;34m.\u001b[0m\u001b[0mF\u001b[0m\u001b[0;34m[\u001b[0m\u001b[0;34m:\u001b[0m\u001b[0;34m,\u001b[0m\u001b[0;36m1\u001b[0m\u001b[0;34m]\u001b[0m\u001b[0;34m,\u001b[0m \u001b[0;34m\"Sigma NESZ [dB]\"\u001b[0m \u001b[0;34m:\u001b[0m \u001b[0mres\u001b[0m\u001b[0;34m.\u001b[0m\u001b[0mF\u001b[0m\u001b[0;34m[\u001b[0m\u001b[0;34m:\u001b[0m\u001b[0;34m,\u001b[0m\u001b[0;36m2\u001b[0m\u001b[0;34m]\u001b[0m\u001b[0;34m,\u001b[0m \u001b[0;34m\"Speckle reduction [dB]\"\u001b[0m \u001b[0;34m:\u001b[0m \u001b[0mres\u001b[0m\u001b[0;34m.\u001b[0m\u001b[0mF\u001b[0m\u001b[0;34m[\u001b[0m\u001b[0;34m:\u001b[0m\u001b[0;34m,\u001b[0m\u001b[0;36m3\u001b[0m\u001b[0;34m]\u001b[0m\u001b[0;34m}\u001b[0m\u001b[0;34m)\u001b[0m\u001b[0;34m\u001b[0m\u001b[0;34m\u001b[0m\u001b[0m\n\u001b[0m\u001b[1;32m      3\u001b[0m \u001b[0mdf\u001b[0m\u001b[0;34m.\u001b[0m\u001b[0mto_csv\u001b[0m\u001b[0;34m(\u001b[0m\u001b[0mout_dir\u001b[0m\u001b[0;34m+\u001b[0m\u001b[0;34m\"pareto_front.csv\"\u001b[0m\u001b[0;34m)\u001b[0m\u001b[0;34m\u001b[0m\u001b[0;34m\u001b[0m\u001b[0m\n",
      "\u001b[0;31mNameError\u001b[0m: name 'res' is not defined"
     ]
    }
   ],
   "source": [
    "import pandas as pd \n",
    "df = pd.DataFrame({\"Daz [m]\" : res.X[:,0], \"Delv [m]\" : res.X[:,1], \"Chirp BW [MHz]\" : res.X[:,2], \"Pulse width [us]\" : res.X[:,3], \"Antenna area [m2]\" : res.F[:,0], \"Swath width [km]\" : -1*res.F[:,1], \"Sigma NESZ [dB]\" : res.F[:,2], \"Speckle reduction [dB]\" : res.F[:,3]})\n",
    "df.to_csv(out_dir+\"pareto_front.csv\")"
   ]
  },
  {
   "cell_type": "code",
   "execution_count": 153,
   "metadata": {},
   "outputs": [
    {
     "data": {
      "text/plain": "'\\nplt.plot(n_evals, hv, \\'-o\\')\\nplt.title(\"Convergence\")\\nplt.xlabel(\"Function Evaluations\")\\nplt.ylabel(\"Hypervolume\")\\nplt.savefig(\"hypervolume.svg\")\\nplt.show()\\n'"
     },
     "execution_count": 153,
     "metadata": {},
     "output_type": "execute_result"
    }
   ],
   "source": [
    "\"\"\"\n",
    "plt.plot(n_evals, hv, '-o')\n",
    "plt.title(\"Convergence\")\n",
    "plt.xlabel(\"Function Evaluations\")\n",
    "plt.ylabel(\"Hypervolume\")\n",
    "plt.savefig(\"hypervolume.svg\")\n",
    "plt.show()\n",
    "\"\"\""
   ]
  },
  {
   "cell_type": "code",
   "execution_count": 154,
   "metadata": {},
   "outputs": [
    {
     "ename": "ModuleNotFoundError",
     "evalue": "No module named 'pymoo'",
     "output_type": "error",
     "traceback": [
      "\u001b[0;31m---------------------------------------------------------------------------\u001b[0m",
      "\u001b[0;31mModuleNotFoundError\u001b[0m                       Traceback (most recent call last)",
      "\u001b[0;32m/tmp/ipykernel_8430/3864180760.py\u001b[0m in \u001b[0;36m<module>\u001b[0;34m\u001b[0m\n\u001b[0;32m----> 1\u001b[0;31m \u001b[0;32mfrom\u001b[0m \u001b[0mpymoo\u001b[0m\u001b[0;34m.\u001b[0m\u001b[0mvisualization\u001b[0m\u001b[0;34m.\u001b[0m\u001b[0mpcp\u001b[0m \u001b[0;32mimport\u001b[0m \u001b[0mPCP\u001b[0m\u001b[0;34m\u001b[0m\u001b[0;34m\u001b[0m\u001b[0m\n\u001b[0m\u001b[1;32m      2\u001b[0m \u001b[0mplot\u001b[0m \u001b[0;34m=\u001b[0m \u001b[0mPCP\u001b[0m\u001b[0;34m(\u001b[0m\u001b[0;34m)\u001b[0m\u001b[0;34m.\u001b[0m\u001b[0madd\u001b[0m\u001b[0;34m(\u001b[0m\u001b[0mres\u001b[0m\u001b[0;34m.\u001b[0m\u001b[0mF\u001b[0m\u001b[0;34m)\u001b[0m\u001b[0;34m\u001b[0m\u001b[0;34m\u001b[0m\u001b[0m\n\u001b[1;32m      3\u001b[0m \u001b[0mplot\u001b[0m\u001b[0;34m.\u001b[0m\u001b[0madd\u001b[0m\u001b[0;34m(\u001b[0m\u001b[0mres\u001b[0m\u001b[0;34m.\u001b[0m\u001b[0mF\u001b[0m\u001b[0;34m[\u001b[0m\u001b[0;36m0\u001b[0m\u001b[0;34m]\u001b[0m\u001b[0;34m,\u001b[0m \u001b[0mlinewidth\u001b[0m\u001b[0;34m=\u001b[0m\u001b[0;36m5\u001b[0m\u001b[0;34m,\u001b[0m \u001b[0mcolor\u001b[0m\u001b[0;34m=\u001b[0m\u001b[0;34m\"green\"\u001b[0m\u001b[0;34m)\u001b[0m\u001b[0;34m\u001b[0m\u001b[0;34m\u001b[0m\u001b[0m\n\u001b[1;32m      4\u001b[0m \u001b[0mplot\u001b[0m\u001b[0;34m.\u001b[0m\u001b[0madd\u001b[0m\u001b[0;34m(\u001b[0m\u001b[0mres\u001b[0m\u001b[0;34m.\u001b[0m\u001b[0mF\u001b[0m\u001b[0;34m[\u001b[0m\u001b[0;36m8\u001b[0m\u001b[0;34m]\u001b[0m\u001b[0;34m,\u001b[0m \u001b[0mlinewidth\u001b[0m\u001b[0;34m=\u001b[0m\u001b[0;36m5\u001b[0m\u001b[0;34m,\u001b[0m \u001b[0mcolor\u001b[0m\u001b[0;34m=\u001b[0m\u001b[0;34m\"cyan\"\u001b[0m\u001b[0;34m)\u001b[0m\u001b[0;34m\u001b[0m\u001b[0;34m\u001b[0m\u001b[0m\n\u001b[1;32m      5\u001b[0m \u001b[0mplot\u001b[0m\u001b[0;34m.\u001b[0m\u001b[0madd\u001b[0m\u001b[0;34m(\u001b[0m\u001b[0mres\u001b[0m\u001b[0;34m.\u001b[0m\u001b[0mF\u001b[0m\u001b[0;34m[\u001b[0m\u001b[0;36m163\u001b[0m\u001b[0;34m]\u001b[0m\u001b[0;34m,\u001b[0m \u001b[0mlinewidth\u001b[0m\u001b[0;34m=\u001b[0m\u001b[0;36m5\u001b[0m\u001b[0;34m,\u001b[0m \u001b[0mcolor\u001b[0m\u001b[0;34m=\u001b[0m\u001b[0;34m\"red\"\u001b[0m\u001b[0;34m)\u001b[0m\u001b[0;34m\u001b[0m\u001b[0;34m\u001b[0m\u001b[0m\n",
      "\u001b[0;31mModuleNotFoundError\u001b[0m: No module named 'pymoo'"
     ]
    }
   ],
   "source": [
    "from pymoo.visualization.pcp import PCP\n",
    "plot = PCP().add(res.F)\n",
    "plot.add(res.F[0], linewidth=5, color=\"green\")\n",
    "plot.add(res.F[8], linewidth=5, color=\"cyan\")\n",
    "plot.add(res.F[163], linewidth=5, color=\"red\")\n",
    "plot.add(res.F[190], linewidth=5, color=\"black\")\n",
    "plot.add(res.F[519], linewidth=5, color=\"yellow\")\n",
    "plot.show()\n",
    "plt.savefig(out_dir+\"pcp.svg\")\n"
   ]
  },
  {
   "cell_type": "code",
   "execution_count": 155,
   "metadata": {},
   "outputs": [
    {
     "ename": "ModuleNotFoundError",
     "evalue": "No module named 'pymoo'",
     "output_type": "error",
     "traceback": [
      "\u001b[0;31m---------------------------------------------------------------------------\u001b[0m",
      "\u001b[0;31mModuleNotFoundError\u001b[0m                       Traceback (most recent call last)",
      "\u001b[0;32m/tmp/ipykernel_8430/1921423642.py\u001b[0m in \u001b[0;36m<module>\u001b[0;34m\u001b[0m\n\u001b[1;32m      1\u001b[0m \u001b[0;31m#f1: Antenna area [m2], f2: -Swath width [km], f3: Sigma NESZ [dB], f4: Speckle reduction [dB]\u001b[0m\u001b[0;34m\u001b[0m\u001b[0;34m\u001b[0m\u001b[0;34m\u001b[0m\u001b[0m\n\u001b[0;32m----> 2\u001b[0;31m \u001b[0;32mfrom\u001b[0m \u001b[0mpymoo\u001b[0m\u001b[0;34m.\u001b[0m\u001b[0mfactory\u001b[0m \u001b[0;32mimport\u001b[0m \u001b[0mget_performance_indicator\u001b[0m\u001b[0;34m\u001b[0m\u001b[0;34m\u001b[0m\u001b[0m\n\u001b[0m\u001b[1;32m      3\u001b[0m \u001b[0mA\u001b[0m \u001b[0;34m=\u001b[0m \u001b[0mres\u001b[0m\u001b[0;34m.\u001b[0m\u001b[0mF\u001b[0m\u001b[0;34m[\u001b[0m\u001b[0;36m10\u001b[0m\u001b[0;34m]\u001b[0m\u001b[0;34m\u001b[0m\u001b[0;34m\u001b[0m\u001b[0m\n\u001b[1;32m      4\u001b[0m \u001b[0mhv\u001b[0m \u001b[0;34m=\u001b[0m \u001b[0mget_performance_indicator\u001b[0m\u001b[0;34m(\u001b[0m\u001b[0;34m\"hv\"\u001b[0m\u001b[0;34m,\u001b[0m \u001b[0mref_point\u001b[0m\u001b[0;34m=\u001b[0m\u001b[0mnp\u001b[0m\u001b[0;34m.\u001b[0m\u001b[0marray\u001b[0m\u001b[0;34m(\u001b[0m\u001b[0;34m[\u001b[0m\u001b[0;36m15\u001b[0m\u001b[0;34m*\u001b[0m\u001b[0;36m15\u001b[0m\u001b[0;34m,\u001b[0m \u001b[0;36m0\u001b[0m\u001b[0;34m,\u001b[0m \u001b[0;36m0\u001b[0m\u001b[0;34m,\u001b[0m \u001b[0;36m0\u001b[0m\u001b[0;34m]\u001b[0m\u001b[0;34m)\u001b[0m\u001b[0;34m)\u001b[0m\u001b[0;34m\u001b[0m\u001b[0;34m\u001b[0m\u001b[0m\n\u001b[1;32m      5\u001b[0m \u001b[0mprint\u001b[0m\u001b[0;34m(\u001b[0m\u001b[0;34m\"hv\"\u001b[0m\u001b[0;34m,\u001b[0m \u001b[0mhv\u001b[0m\u001b[0;34m.\u001b[0m\u001b[0mcalc\u001b[0m\u001b[0;34m(\u001b[0m\u001b[0mA\u001b[0m\u001b[0;34m)\u001b[0m\u001b[0;34m)\u001b[0m\u001b[0;34m\u001b[0m\u001b[0;34m\u001b[0m\u001b[0m\n",
      "\u001b[0;31mModuleNotFoundError\u001b[0m: No module named 'pymoo'"
     ]
    }
   ],
   "source": [
    "#f1: Antenna area [m2], f2: -Swath width [km], f3: Sigma NESZ [dB], f4: Speckle reduction [dB]\n",
    "from pymoo.factory import get_performance_indicator\n",
    "A = res.F[10]\n",
    "hv = get_performance_indicator(\"hv\", ref_point=np.array([15*15, 0, 0, 0]))\n",
    "print(\"hv\", hv.calc(A))"
   ]
  },
  {
   "cell_type": "code",
   "execution_count": 156,
   "metadata": {},
   "outputs": [
    {
     "ename": "NameError",
     "evalue": "name 'res' is not defined",
     "output_type": "error",
     "traceback": [
      "\u001b[0;31m---------------------------------------------------------------------------\u001b[0m",
      "\u001b[0;31mNameError\u001b[0m                                 Traceback (most recent call last)",
      "\u001b[0;32m/tmp/ipykernel_8430/3833762127.py\u001b[0m in \u001b[0;36m<module>\u001b[0;34m\u001b[0m\n\u001b[0;32m----> 1\u001b[0;31m \u001b[0mres\u001b[0m\u001b[0;34m.\u001b[0m\u001b[0mF\u001b[0m\u001b[0;34m[\u001b[0m\u001b[0;36m10\u001b[0m\u001b[0;34m]\u001b[0m\u001b[0;34m\u001b[0m\u001b[0;34m\u001b[0m\u001b[0m\n\u001b[0m",
      "\u001b[0;31mNameError\u001b[0m: name 'res' is not defined"
     ]
    }
   ],
   "source": [
    "res.F[10]"
   ]
  },
  {
   "cell_type": "code",
   "execution_count": 157,
   "metadata": {
    "scrolled": true
   },
   "outputs": [
    {
     "ename": "NameError",
     "evalue": "name 'res' is not defined",
     "output_type": "error",
     "traceback": [
      "\u001b[0;31m---------------------------------------------------------------------------\u001b[0m",
      "\u001b[0;31mNameError\u001b[0m                                 Traceback (most recent call last)",
      "\u001b[0;32m/tmp/ipykernel_8430/2018713204.py\u001b[0m in \u001b[0;36m<module>\u001b[0;34m\u001b[0m\n\u001b[0;32m----> 1\u001b[0;31m \u001b[0mres\u001b[0m\u001b[0;34m.\u001b[0m\u001b[0mX\u001b[0m\u001b[0;34m\u001b[0m\u001b[0;34m\u001b[0m\u001b[0m\n\u001b[0m",
      "\u001b[0;31mNameError\u001b[0m: name 'res' is not defined"
     ]
    }
   ],
   "source": [
    "res.X"
   ]
  },
  {
   "cell_type": "code",
   "execution_count": 158,
   "metadata": {
    "scrolled": true
   },
   "outputs": [
    {
     "ename": "NameError",
     "evalue": "name 'res' is not defined",
     "output_type": "error",
     "traceback": [
      "\u001b[0;31m---------------------------------------------------------------------------\u001b[0m",
      "\u001b[0;31mNameError\u001b[0m                                 Traceback (most recent call last)",
      "\u001b[0;32m/tmp/ipykernel_8430/1516169555.py\u001b[0m in \u001b[0;36m<module>\u001b[0;34m\u001b[0m\n\u001b[0;32m----> 1\u001b[0;31m \u001b[0mres\u001b[0m\u001b[0;34m.\u001b[0m\u001b[0mF\u001b[0m\u001b[0;34m[\u001b[0m\u001b[0;36m1\u001b[0m\u001b[0;34m]\u001b[0m\u001b[0;34m\u001b[0m\u001b[0;34m\u001b[0m\u001b[0m\n\u001b[0m",
      "\u001b[0;31mNameError\u001b[0m: name 'res' is not defined"
     ]
    }
   ],
   "source": [
    "res.F[1]"
   ]
  },
  {
   "cell_type": "code",
   "execution_count": 159,
   "metadata": {
    "scrolled": true
   },
   "outputs": [
    {
     "ename": "NameError",
     "evalue": "name 'res' is not defined",
     "output_type": "error",
     "traceback": [
      "\u001b[0;31m---------------------------------------------------------------------------\u001b[0m",
      "\u001b[0;31mNameError\u001b[0m                                 Traceback (most recent call last)",
      "\u001b[0;32m/tmp/ipykernel_8430/3161224704.py\u001b[0m in \u001b[0;36m<module>\u001b[0;34m\u001b[0m\n\u001b[1;32m      3\u001b[0m \u001b[0;34m\u001b[0m\u001b[0m\n\u001b[1;32m      4\u001b[0m \u001b[0mnp\u001b[0m\u001b[0;34m.\u001b[0m\u001b[0mset_printoptions\u001b[0m\u001b[0;34m(\u001b[0m\u001b[0mthreshold\u001b[0m\u001b[0;34m=\u001b[0m\u001b[0mnp\u001b[0m\u001b[0;34m.\u001b[0m\u001b[0minf\u001b[0m\u001b[0;34m)\u001b[0m\u001b[0;34m\u001b[0m\u001b[0;34m\u001b[0m\u001b[0m\n\u001b[0;32m----> 5\u001b[0;31m \u001b[0mres\u001b[0m\u001b[0;34m.\u001b[0m\u001b[0mF\u001b[0m\u001b[0;34m[\u001b[0m\u001b[0mres\u001b[0m\u001b[0;34m.\u001b[0m\u001b[0mF\u001b[0m\u001b[0;34m[\u001b[0m\u001b[0;34m:\u001b[0m\u001b[0;34m,\u001b[0m\u001b[0;36m2\u001b[0m\u001b[0;34m]\u001b[0m \u001b[0;34m<\u001b[0m \u001b[0;34m-\u001b[0m\u001b[0;36m30\u001b[0m\u001b[0;34m]\u001b[0m\u001b[0;34m\u001b[0m\u001b[0;34m\u001b[0m\u001b[0m\n\u001b[0m",
      "\u001b[0;31mNameError\u001b[0m: name 'res' is not defined"
     ]
    }
   ],
   "source": [
    "from IPython.core.interactiveshell import InteractiveShell\n",
    "InteractiveShell.ast_node_interactivity = \"all\"\n",
    "\n",
    "np.set_printoptions(threshold=np.inf)\n",
    "res.F[res.F[:,2] < -30]"
   ]
  },
  {
   "cell_type": "code",
   "execution_count": 160,
   "metadata": {
    "scrolled": true
   },
   "outputs": [
    {
     "ename": "NameError",
     "evalue": "name 'res' is not defined",
     "output_type": "error",
     "traceback": [
      "\u001b[0;31m---------------------------------------------------------------------------\u001b[0m",
      "\u001b[0;31mNameError\u001b[0m                                 Traceback (most recent call last)",
      "\u001b[0;32m/tmp/ipykernel_8430/613602004.py\u001b[0m in \u001b[0;36m<module>\u001b[0;34m\u001b[0m\n\u001b[0;32m----> 1\u001b[0;31m \u001b[0mnp\u001b[0m\u001b[0;34m.\u001b[0m\u001b[0mwhere\u001b[0m\u001b[0;34m(\u001b[0m\u001b[0mres\u001b[0m\u001b[0;34m.\u001b[0m\u001b[0mF\u001b[0m\u001b[0;34m[\u001b[0m\u001b[0;34m:\u001b[0m\u001b[0;34m,\u001b[0m\u001b[0;36m2\u001b[0m\u001b[0;34m]\u001b[0m \u001b[0;34m<\u001b[0m \u001b[0;34m-\u001b[0m\u001b[0;36m30\u001b[0m\u001b[0;34m)\u001b[0m\u001b[0;34m\u001b[0m\u001b[0;34m\u001b[0m\u001b[0m\n\u001b[0m",
      "\u001b[0;31mNameError\u001b[0m: name 'res' is not defined"
     ]
    }
   ],
   "source": [
    "np.where(res.F[:,2] < -30)"
   ]
  },
  {
   "cell_type": "code",
   "execution_count": 161,
   "metadata": {},
   "outputs": [
    {
     "ename": "NameError",
     "evalue": "name 'res' is not defined",
     "output_type": "error",
     "traceback": [
      "\u001b[0;31m---------------------------------------------------------------------------\u001b[0m",
      "\u001b[0;31mNameError\u001b[0m                                 Traceback (most recent call last)",
      "\u001b[0;32m/tmp/ipykernel_8430/968581502.py\u001b[0m in \u001b[0;36m<module>\u001b[0;34m\u001b[0m\n\u001b[0;32m----> 1\u001b[0;31m \u001b[0mres\u001b[0m\u001b[0;34m.\u001b[0m\u001b[0mF\u001b[0m\u001b[0;34m[\u001b[0m\u001b[0;36m84\u001b[0m\u001b[0;34m]\u001b[0m\u001b[0;34m\u001b[0m\u001b[0;34m\u001b[0m\u001b[0m\n\u001b[0m",
      "\u001b[0;31mNameError\u001b[0m: name 'res' is not defined"
     ]
    }
   ],
   "source": [
    "res.F[84]"
   ]
  },
  {
   "cell_type": "code",
   "execution_count": 162,
   "metadata": {},
   "outputs": [
    {
     "ename": "NameError",
     "evalue": "name 'res' is not defined",
     "output_type": "error",
     "traceback": [
      "\u001b[0;31m---------------------------------------------------------------------------\u001b[0m",
      "\u001b[0;31mNameError\u001b[0m                                 Traceback (most recent call last)",
      "\u001b[0;32m/tmp/ipykernel_8430/3331434834.py\u001b[0m in \u001b[0;36m<module>\u001b[0;34m\u001b[0m\n\u001b[0;32m----> 1\u001b[0;31m \u001b[0mres\u001b[0m\u001b[0;34m.\u001b[0m\u001b[0mX\u001b[0m\u001b[0;34m[\u001b[0m\u001b[0;36m84\u001b[0m\u001b[0;34m]\u001b[0m\u001b[0;34m\u001b[0m\u001b[0;34m\u001b[0m\u001b[0m\n\u001b[0m",
      "\u001b[0;31mNameError\u001b[0m: name 'res' is not defined"
     ]
    }
   ],
   "source": [
    "res.X[84]"
   ]
  },
  {
   "cell_type": "code",
   "execution_count": 163,
   "metadata": {},
   "outputs": [
    {
     "ename": "NameError",
     "evalue": "name 'res' is not defined",
     "output_type": "error",
     "traceback": [
      "\u001b[0;31m---------------------------------------------------------------------------\u001b[0m",
      "\u001b[0;31mNameError\u001b[0m                                 Traceback (most recent call last)",
      "\u001b[0;32m/tmp/ipykernel_8430/2429222545.py\u001b[0m in \u001b[0;36m<module>\u001b[0;34m\u001b[0m\n\u001b[0;32m----> 1\u001b[0;31m \u001b[0mnp\u001b[0m\u001b[0;34m.\u001b[0m\u001b[0msize\u001b[0m\u001b[0;34m(\u001b[0m\u001b[0mres\u001b[0m\u001b[0;34m.\u001b[0m\u001b[0mF\u001b[0m\u001b[0;34m)\u001b[0m\u001b[0;34m\u001b[0m\u001b[0;34m\u001b[0m\u001b[0m\n\u001b[0m",
      "\u001b[0;31mNameError\u001b[0m: name 'res' is not defined"
     ]
    }
   ],
   "source": [
    "np.size(res.F)"
   ]
  },
  {
   "cell_type": "code",
   "execution_count": null,
   "metadata": {},
   "outputs": [],
   "source": []
  }
 ],
 "metadata": {
  "kernelspec": {
   "display_name": "Python 3 (ipykernel)",
   "language": "python",
   "name": "python3"
  },
  "language_info": {
   "codemirror_mode": {
    "name": "ipython",
    "version": 3
   },
   "file_extension": ".py",
   "mimetype": "text/x-python",
   "name": "python",
   "nbconvert_exporter": "python",
   "pygments_lexer": "ipython3",
   "version": "3.7.3"
  }
 },
 "nbformat": 4,
 "nbformat_minor": 4
}